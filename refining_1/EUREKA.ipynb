{
 "cells": [
  {
   "cell_type": "code",
   "execution_count": 2,
   "metadata": {},
   "outputs": [],
   "source": [
    "import numpy as np\n",
    "import matplotlib.pyplot as plt"
   ]
  },
  {
   "cell_type": "code",
   "execution_count": 3,
   "metadata": {},
   "outputs": [],
   "source": [
    "# va por aca che\n",
    "def make_timeline(sf, bw, spc):\n",
    "    # sf: spreading factor\n",
    "    # bw: bandwidth\n",
    "    # spc: samples per chip\n",
    "    symbol_time = (2**sf) / bw\n",
    "    timeline =  np.linspace(0, symbol_time, (2**sf) * spc + 1)\n",
    "    timeline = timeline[:-1]\n",
    "    return timeline"
   ]
  },
  {
   "cell_type": "code",
   "execution_count": 4,
   "metadata": {},
   "outputs": [],
   "source": [
    "def make_freq_evol(symbol, timeline, sf, bw):\n",
    "    # bw: bandwidth\n",
    "    theoretical_symbol_time = (2**sf) / bw\n",
    "    slope = bw / (theoretical_symbol_time)\n",
    "    y_intercept = symbol * (bw / 2**sf)\n",
    "    frequency_evolution = []\n",
    "    for i in range(len(timeline)):\n",
    "        instant_freq = y_intercept + slope * timeline[i]\n",
    "        if instant_freq > bw:\n",
    "            instant_freq = instant_freq - bw\n",
    "        frequency_evolution.append(instant_freq)\n",
    "    \n",
    "    return frequency_evolution"
   ]
  },
  {
   "cell_type": "code",
   "execution_count": 5,
   "metadata": {},
   "outputs": [],
   "source": [
    "def compute_auxiliary_phase_factor(symbol, timeline, sf, bw):\n",
    "    # bw: bandwidth\n",
    "    theoretical_symbol_time = (2**sf) / bw\n",
    "    slope = bw / (theoretical_symbol_time)\n",
    "    y_intercept = symbol * (bw / 2**sf)\n",
    "    integrated_freq = []\n",
    "    for i in range(len(timeline)):\n",
    "        instant_freq = y_intercept + 0.5 * slope * timeline[i]\n",
    "        if instant_freq > bw:\n",
    "            instant_freq = instant_freq - bw\n",
    "        integrated_freq.append(instant_freq)\n",
    "    \n",
    "    return integrated_freq"
   ]
  },
  {
   "cell_type": "code",
   "execution_count": 6,
   "metadata": {},
   "outputs": [],
   "source": [
    "def generate_signal(sf, freq, timeline, samples_per_symbol = 1):\n",
    "    # sf: spreading factor\n",
    "    # freq: frequency\n",
    "    # timeline: timeline\n",
    "    coeff = 1/(np.sqrt(2**sf * samples_per_symbol) )\n",
    "    signal = []\n",
    "\n",
    "    for i in range(len(timeline)):\n",
    "\n",
    "        inst_phase = 2 * np.pi * freq[i] * timeline[i] \n",
    "        signal.append( coeff * np.exp(1j * inst_phase) )\n",
    "\n",
    "    return signal"
   ]
  },
  {
   "cell_type": "code",
   "execution_count": 7,
   "metadata": {},
   "outputs": [],
   "source": [
    "## Demodulation\n",
    "# Generate downchirp\n",
    "def generate_downchirp(sf, bw, timeline, also_return_freq=False, samples_per_chip = 1):\n",
    "    # sf: spreading factor\n",
    "    # freq: frequency\n",
    "    # timeline: timeline\n",
    "    y_intercept = bw\n",
    "    theoretical_symbol_time = (2**sf) / bw\n",
    "    freqs = []\n",
    "    integrated_freqs = []\n",
    "    slope = -bw / theoretical_symbol_time\n",
    "    coeff = 1/(np.sqrt(2**sf * samples_per_chip) )\n",
    "    signal = []\n",
    "\n",
    "    for i in range(len(timeline)):\n",
    "        freq = y_intercept + slope * timeline[i]\n",
    "        integrated_freq = y_intercept + 0.5 * slope * timeline[i]\n",
    "\n",
    "        inst_phase = 2 * np.pi * (integrated_freq) * timeline[i]\n",
    "        signal.append( coeff * np.exp(1j * inst_phase))\n",
    "        freqs.append(freq)\n",
    "        \n",
    "\n",
    "    if also_return_freq:\n",
    "        return signal, freqs\n",
    "    return signal\n",
    "\n",
    "def correlate(signal, sf, downchirp, return_symbol=False):\n",
    "    product = []\n",
    "    for i in range(len(signal)):\n",
    "        product.append(signal[i] * downchirp[i])\n",
    "\n",
    "    fourier_transform = np.fft.fft(product)\n",
    "    \n",
    "    if return_symbol:\n",
    "        return np.argmax(fourier_transform)\n",
    "    \n",
    "    return fourier_transform"
   ]
  },
  {
   "cell_type": "code",
   "execution_count": 8,
   "metadata": {},
   "outputs": [],
   "source": [
    "def test_all(sf, bw, spc):\n",
    "    symbols_sent = []\n",
    "    symbols_received = []\n",
    "    timeline_2 = make_timeline(sf, bw, spc)\n",
    "    error_started_at = -1\n",
    "    for i in range(2**sf):\n",
    "        freq = make_freq_evol(i, timeline_2, sf, bw)\n",
    "        signal = generate_signal(sf, freq, timeline_2)\n",
    "        downchirp = generate_downchirp(sf, bw, timeline_2)\n",
    "        correlation = correlate(signal,sf, downchirp, return_symbol=True)\n",
    "        symbols_sent.append(i)\n",
    "        symbols_received.append(correlation)\n",
    "        if error_started_at == -1 and i != correlation:\n",
    "            error_started_at = i\n",
    "    return symbols_sent, symbols_received, error_started_at\n"
   ]
  },
  {
   "cell_type": "code",
   "execution_count": 19,
   "metadata": {},
   "outputs": [
    {
     "data": {
      "text/plain": [
       "[<matplotlib.lines.Line2D at 0x21dbd92ea50>]"
      ]
     },
     "execution_count": 19,
     "metadata": {},
     "output_type": "execute_result"
    },
    {
     "data": {
      "image/png": "[encoded data removed]",
      "text/plain": [
       "<Figure size 1800x800 with 1 Axes>"
      ]
     },
     "metadata": {},
     "output_type": "display_data"
    }
   ],
   "source": [
    "symbol = 100\n",
    "sf, bw, spc = 7, 125000, 100\n",
    "time = make_timeline(7, 125000, spc)\n",
    "freq = make_freq_evol(symbol, time, sf, bw)\n",
    "int_freq = compute_auxiliary_phase_factor(symbol, time, sf, bw)\n",
    "int_freq = int_freq[::spc]\n",
    "int_freq = np.repeat(int_freq, spc)\n",
    "signal = generate_signal(sf, int_freq, time, spc)\n",
    "downchirp = generate_downchirp(sf, bw, time, samples_per_chip=spc)\n",
    "downchirp = downchirp[::spc]\n",
    "downchirp = np.repeat(downchirp, spc)\n",
    "\n",
    "correlation = correlate(signal, sf, downchirp)\n",
    "plt.figure(figsize=(18, 8))\n",
    "plt.title('The received symbol is ' + str(np.argmax(correlation)))\n",
    "plt.plot(correlation)\n",
    "\n"
   ]
  },
  {
   "cell_type": "code",
   "execution_count": 10,
   "metadata": {},
   "outputs": [],
   "source": [
    "def test_all(sf, bw, spc):\n",
    "    t = make_timeline(sf, bw, spc)\n",
    "    symbols_sent = []  \n",
    "    symbols_received = []\n",
    "\n",
    "    for i in range(2**sf):\n",
    "        freq = make_freq_evol(i, t, sf, bw)\n",
    "        int_freq = compute_auxiliary_phase_factor(i, t, sf, bw)\n",
    "        if spc > 1:\n",
    "            freq = freq[::spc]\n",
    "            freq = np.repeat(freq, spc)\n",
    "\n",
    "        signal = generate_signal(sf, int_freq, t)\n",
    "\n",
    "        downchirp = generate_downchirp(sf, bw, t)\n",
    "        if spc > 1:\n",
    "            downchirp = downchirp[::spc]\n",
    "            downchirp = np.repeat(downchirp, spc)\n",
    "        correlation = correlate(signal,sf, downchirp, return_symbol=True)\n",
    "        symbols_sent.append(i)\n",
    "        symbols_received.append(correlation)\n",
    "    return symbols_sent, symbols_received"
   ]
  },
  {
   "cell_type": "code",
   "execution_count": 11,
   "metadata": {},
   "outputs": [
    {
     "ename": "IndexError",
     "evalue": "list index out of range",
     "output_type": "error",
     "traceback": [
      "\u001b[1;31m---------------------------------------------------------------------------\u001b[0m",
      "\u001b[1;31mIndexError\u001b[0m                                Traceback (most recent call last)",
      "Cell \u001b[1;32mIn[11], line 21\u001b[0m\n\u001b[0;32m     19\u001b[0m samples_per_chip \u001b[38;5;241m=\u001b[39m \u001b[38;5;241m1\u001b[39m\n\u001b[0;32m     20\u001b[0m timeline \u001b[38;5;241m=\u001b[39m make_timeline(spreading_factor, bandwidth, samples_per_chip)\n\u001b[1;32m---> 21\u001b[0m symbols_sent, symbols_received \u001b[38;5;241m=\u001b[39m \u001b[43mtest_all\u001b[49m\u001b[43m(\u001b[49m\u001b[43mspreading_factor\u001b[49m\u001b[43m,\u001b[49m\u001b[43m \u001b[49m\u001b[43mbandwidth\u001b[49m\u001b[43m,\u001b[49m\u001b[43m \u001b[49m\u001b[43mtimeline\u001b[49m\u001b[43m)\u001b[49m\n\u001b[0;32m     22\u001b[0m plt\u001b[38;5;241m.\u001b[39mfigure(figsize\u001b[38;5;241m=\u001b[39m(\u001b[38;5;241m20\u001b[39m,\u001b[38;5;241m8\u001b[39m))\n\u001b[0;32m     23\u001b[0m plt\u001b[38;5;241m.\u001b[39mplot(symbols_sent, label\u001b[38;5;241m=\u001b[39m\u001b[38;5;124m\"\u001b[39m\u001b[38;5;124mSent\u001b[39m\u001b[38;5;124m\"\u001b[39m)\n",
      "Cell \u001b[1;32mIn[11], line 9\u001b[0m, in \u001b[0;36mtest_all\u001b[1;34m(sf, bw, t)\u001b[0m\n\u001b[0;32m      7\u001b[0m int_freq \u001b[38;5;241m=\u001b[39m compute_auxiliary_phase_factor(i, t, sf, bw)\n\u001b[0;32m      8\u001b[0m int_freq \u001b[38;5;241m=\u001b[39m int_freq[::\u001b[38;5;241m10\u001b[39m]\n\u001b[1;32m----> 9\u001b[0m signal \u001b[38;5;241m=\u001b[39m \u001b[43mgenerate_signal\u001b[49m\u001b[43m(\u001b[49m\u001b[43msf\u001b[49m\u001b[43m,\u001b[49m\u001b[43m \u001b[49m\u001b[43mint_freq\u001b[49m\u001b[43m,\u001b[49m\u001b[43m \u001b[49m\u001b[43mt\u001b[49m\u001b[43m)\u001b[49m\n\u001b[0;32m     11\u001b[0m downchirp \u001b[38;5;241m=\u001b[39m generate_downchirp(sf, bw, t)\n\u001b[0;32m     12\u001b[0m correlation \u001b[38;5;241m=\u001b[39m correlate(signal,sf, downchirp, return_symbol\u001b[38;5;241m=\u001b[39m\u001b[38;5;28;01mTrue\u001b[39;00m)\n",
      "Cell \u001b[1;32mIn[6], line 10\u001b[0m, in \u001b[0;36mgenerate_signal\u001b[1;34m(sf, freq, timeline, samples_per_symbol)\u001b[0m\n\u001b[0;32m      6\u001b[0m signal \u001b[38;5;241m=\u001b[39m []\n\u001b[0;32m      8\u001b[0m \u001b[38;5;28;01mfor\u001b[39;00m i \u001b[38;5;129;01min\u001b[39;00m \u001b[38;5;28mrange\u001b[39m(\u001b[38;5;28mlen\u001b[39m(timeline)):\n\u001b[1;32m---> 10\u001b[0m     inst_phase \u001b[38;5;241m=\u001b[39m \u001b[38;5;241m2\u001b[39m \u001b[38;5;241m*\u001b[39m np\u001b[38;5;241m.\u001b[39mpi \u001b[38;5;241m*\u001b[39m \u001b[43mfreq\u001b[49m\u001b[43m[\u001b[49m\u001b[43mi\u001b[49m\u001b[43m]\u001b[49m \u001b[38;5;241m*\u001b[39m timeline[i] \n\u001b[0;32m     11\u001b[0m     signal\u001b[38;5;241m.\u001b[39mappend( coeff \u001b[38;5;241m*\u001b[39m np\u001b[38;5;241m.\u001b[39mexp(\u001b[38;5;241m1\u001b[39mj \u001b[38;5;241m*\u001b[39m inst_phase) )\n\u001b[0;32m     13\u001b[0m \u001b[38;5;28;01mreturn\u001b[39;00m signal\n",
      "\u001b[1;31mIndexError\u001b[0m: list index out of range"
     ]
    }
   ],
   "source": [
    "def test_all(sf, bw, t):\n",
    "\n",
    "    symbols_sent = []\n",
    "    symbols_received = []\n",
    "    for i in range(2**sf):\n",
    "        freq = make_freq_evol(i, t, sf, bw)\n",
    "        int_freq = compute_auxiliary_phase_factor(i, t, sf, bw)\n",
    "        int_freq = int_freq[::10]\n",
    "        signal = generate_signal(sf, int_freq, t)\n",
    "\n",
    "        downchirp = generate_downchirp(sf, bw, t)\n",
    "        correlation = correlate(signal,sf, downchirp, return_symbol=True)\n",
    "        symbols_sent.append(i)\n",
    "        symbols_received.append(correlation)\n",
    "    return symbols_sent, symbols_received\n",
    "\n",
    "spreading_factor = 7\n",
    "bandwidth = 125e3\n",
    "samples_per_chip = 1\n",
    "timeline = make_timeline(spreading_factor, bandwidth, samples_per_chip)\n",
    "symbols_sent, symbols_received = test_all(spreading_factor, bandwidth, timeline)\n",
    "plt.figure(figsize=(20,8))\n",
    "plt.plot(symbols_sent, label=\"Sent\")\n",
    "plt.plot(symbols_received,'o', label=\"Received\")\n",
    "if symbols_sent == symbols_received:\n",
    "    plt.title(\"Correct demodulation\")\n",
    "\n",
    "\n",
    "\n"
   ]
  },
  {
   "cell_type": "code",
   "execution_count": null,
   "metadata": {},
   "outputs": [],
   "source": [
    "def signal_power(signal):\n",
    "    # Calculate the signal power\n",
    "    P = np.mean(np.abs(signal)**2)\n",
    "    return P\n",
    "\n",
    "\n",
    "def noise_generator(SNR, w):\n",
    "    # Check if SNR is given in dB, DB, or db and convert if necessary\n",
    "    if isinstance(SNR, str) and SNR.lower().endswith('db'):\n",
    "        # Extract the numeric part and convert from dB to linear scale\n",
    "        SNR_value = float(SNR[:-2])  # Remove the last two characters and convert to float\n",
    "        SNR_linear = 10 ** (SNR_value / 10)\n",
    "    else:\n",
    "        # Assume SNR is already in linear scale\n",
    "        SNR_linear = SNR\n",
    "    \n",
    "    # Determine the noise power (variance)\n",
    "    variance = signal_power(w) / SNR_linear\n",
    "    std_dev = variance ** 0.5\n",
    "    # Generate noise\n",
    "    N = [np.random.normal(0, std_dev) + np.random.normal(0, std_dev)*1j for _ in w]\n",
    "    noisy_signal = [w[i] + N[i] for i in range(len(w))]\n",
    "    return noisy_signal, N, variance"
   ]
  }
 ],
 "metadata": {
  "kernelspec": {
   "display_name": "Python 3",
   "language": "python",
   "name": "python3"
  },
  "language_info": {
   "codemirror_mode": {
    "name": "ipython",
    "version": 3
   },
   "file_extension": ".py",
   "mimetype": "text/x-python",
   "name": "python",
   "nbconvert_exporter": "python",
   "pygments_lexer": "ipython3",
   "version": "3.12.0"
  }
 },
 "nbformat": 4,
 "nbformat_minor": 2
}
