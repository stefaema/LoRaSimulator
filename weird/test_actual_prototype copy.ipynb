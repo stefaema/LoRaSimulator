{
 "cells": [
  {
   "cell_type": "markdown",
   "metadata": {},
   "source": [
    "# Prototipo de MoDem especializado en la técnica LoRa para la transmisión y recepción en SDRs (V 0.2.0)\n",
    "\n"
   ]
  },
  {
   "cell_type": "markdown",
   "metadata": {},
   "source": [
    "## Implementación del MoDem LoRa\n"
   ]
  },
  {
   "cell_type": "markdown",
   "metadata": {},
   "source": [
    "La modulación LoRa se podría catalogar como una **manera sistemática de encapsular símbolos** a través de distintas configuraciones en la evolución lineal de la frecuencia para una señal chirp, actuante de portadora.\n",
    "\n"
   ]
  },
  {
   "cell_type": "markdown",
   "metadata": {},
   "source": [
    "### Definición y parámetros"
   ]
  },
  {
   "cell_type": "markdown",
   "metadata": {},
   "source": [
    "Para poder llevar a cabo la implementación del MoDem, es necesario tener en cuenta aquellos parámetros del sistema de comunicación que se deban mantener a lo largo de cada transmisión. Así como en AM uno sintoniza a una frecuencia específica para estar en sintonía el transmisor con el receptor, en LoRa deberemos manifestar estos parámetros *externos*:\n",
    "\n",
    "- Bandwidth (Ancho de Banda): El ancho de banda especificado para una transimisión LoRa deberá ser especificado ya que definirá los límites inferiores y superiores en los que la frecuencia presentará esta variación. Es decir, si establecemos un ancho de banda de por ejemplo $Bw = 125$ kHz, se tendrá entonces una evolución de la frecuencia siempre entre esos valores. \n",
    "  \n",
    "- Spreading Factor (Factor de expansión): Este parámetro engloba dos responsabilidades: Representar la cantidad de bits que se podrán transmitir en un símbolo y que tanto se esparcirá en el tiempo (es decir, su duración) la transmisión del símbolo.\n",
    "\n",
    "- WIP: Ver si se puede además pedir un factor (ya sea booleano o entero) de oversampling para amplificar la cantidad de muestras, con el objetivo de mejorar la apreciación gráfica de lo transmitido.\n",
    "  \n",
    "Además, podemos catalogar a los parámetros *internos* como aquellos que se deducen directamente a partir de los parámetros internos antes mencionados, así poder reutilizarlos como variables una vez se realice el código:\n",
    "\n",
    "- Chips y Número de Chips: El chip representa la unidad fundamental de información, resultante de la expansión realizada por el $SF$. Es equivalente (aunque no son sinónimos) con la cantidad de combinaciones posibles para transmitir un símbolo, a saber: $N_{C}= 2^{SF}$. Es decir, que el chip es el item de menor expresión en la secuencia de evolución de frecuencia a lo largo del tiempo. (Es decir, la mínima cantidad de muestras que mantiene el concepto de la técnica LoRa)\n",
    "\n",
    "- Samples Per Symbol (Muestras por símbolo): Representa cuantos puntos se renderizarán en la función discreta. Para ello, podremos calcularla como: $SPS = N_{C}$. Con que las muestras por símbolo equivalgan al número de chips, ya se tiene una representación suficiente, debido al teorema de Nyquist aplicado para señales I/Q analíticas en el plano complejo.\n",
    "\n",
    "- Symbol Duration (duración por símbolo): Representa cuanto tiempo le tomará a nuestro chirp barrer todo el ancho de banda. Este se calcula como: $T_S= \\frac{N_{C} - 1}{Bw}$. Debido a la discretización de las muestras, se le resta uno a la cantidad de chips para no excederse. Esta es la diferencia implementada por nosotros en contraposición al artículo de Lorenzo Evangelista.\n",
    "\n",
    "- Frequency Slope (pendiente de frecuencia): Representa la tasa de cambio de la evolución lineal de nuestra frecuencia. Se calcula como cualquier otra pendiente. Sabemos que sí o sí se recorrerá una distancia en $\\Delta Y$ equivalente al ancho de banda y sabemos la duración del símbolo $\\Delta t$ ya que se mencionó anteriormente.\n",
    "\n",
    "    $m_f = \\frac{\\Delta Y}{\\Delta t} =  \\frac{(Bw - 0)}{\\frac{N_{C}-1}{Bw}-0} = \\frac{Bw^2}{N_c - 1}$\n",
    "\n"
   ]
  },
  {
   "cell_type": "markdown",
   "metadata": {},
   "source": [
    "### Matemática del código: Transmitiendo y modulando símbolos"
   ]
  },
  {
   "cell_type": "markdown",
   "metadata": {},
   "source": [
    "\n",
    "\n",
    "Para transmitir un símbolo $c_i$, se empieza por la determinación evolutiva de la frecuencia a través del tiempo.\n",
    "Como se dijo anteriormente, esta será de naturaleza lineal, con la ecuación:\n",
    "\n",
    "$f(c,t) = b(c) + m \\cdot t$\n",
    "\n",
    "Donde la pendiente $m$ es la pendiente establecida con anterioridad: $m = \\frac{Bw^2}{N_c - 1}$ y la ordenada al origen se define como la ponderación del símbolo en el espectro de frecuencia:\n",
    "\n",
    "$b(c)= c\\cdot\\frac{Bw}{2^{SF}}$\n",
    "\n",
    "De esta forma, se puede catalogar a la función \"evolución de frecuencia a lo largo del tiempo para un símbolo transmitido $c_i$\", cómo:\n",
    "\n",
    "$f_i(t)=c_i\\cdot\\frac{Bw}{2^{SF}} + \\frac{Bw^2}{N_c - 1} \\cdot t$\n",
    "\n",
    "Sin embargo, el lector rápidamente podrá observar que no se está teniendo en cuenta la discontinuidad del ancho de banda en la ecuación. Para ello, se empleará también la nomenclatura vista en el libro de *Bixio Grimoldi*, en relación a la función especial indicadora, que toma el valor de $1$ sí y solo sí se cumple una asignación lógica asociada. Para mejorar la lectura, se definirán dos funciones: $f'_i$, la cual no tiene discontinuidades, y $f_i$, que reemplazará a la anterior versión para tener en cuenta los límites del ancho de banda. A saber:\n",
    "\n",
    "\n",
    "$f'_i(t)=c_i\\cdot\\frac{Bw}{2^{SF}} + \\frac{Bw^2}{N_c - 1} \\cdot t $\n",
    "\n",
    "$f_i(t)= f'_i(t) - Bw\\cdot \\Chi _{ \\{  f'_i(t) \\geq Bw \\} }$\n",
    "\n",
    "Una vez conseguida la evolución de frecuencia a lo largo del tiempo, se puede determinar la señal final a transmitir:\n",
    "\n",
    "$s_i(t) = \\frac{1}{\\sqrt{2^{SF}}}\\cdot e^{j 2\\pi f_i(t) t}$\n",
    "\n"
   ]
  },
  {
   "cell_type": "markdown",
   "metadata": {},
   "source": [
    "## Modulador LoRa"
   ]
  },
  {
   "cell_type": "code",
   "execution_count": 48,
   "metadata": {},
   "outputs": [],
   "source": [
    "from enum import Enum\n",
    "import numpy as np\n",
    "import matplotlib.pyplot as plt\n",
    "\n",
    "class LoraReservedArtifacts(Enum):\n",
    "    FULL_UPCHIRP = 0\n",
    "    FULL_DOWNCHIRP = 1\n",
    "    QUARTER_DOWNCHIRP = 2\n",
    "    \n",
    "class LoraModulator():\n",
    "    def __init__(self, spreading_factor, bandwidth, oversampling_factor = 1):\n",
    "        # LoRa technique external parameters\n",
    "        self.__spreading_factor = spreading_factor\n",
    "        self.__bandwidth = bandwidth\n",
    "        self.__oversampling_factor = oversampling_factor\n",
    "        # Lora technique internal parameters\n",
    "        self.__chips_number = 2 ** spreading_factor\n",
    "        self.__symbol_duration = ( self.__chips_number ) / bandwidth\n",
    "        self.__samples_per_symbol = int(self.__chips_number)\n",
    "        self.__frequency_slope = (bandwidth ** 2) / (self.__chips_number)\n",
    "        self.__sampling_period = self.__symbol_duration / self.__samples_per_symbol\n",
    "    \n",
    "    def generate_frequency_evolution_across_time(self, symbol):\n",
    "\n",
    "        frequency_evolution = []\n",
    "        symbol_time_axis = np.linspace(0, self.__symbol_duration, (self.__samples_per_symbol - 1) * self.__oversampling_factor + 1)\n",
    "\n",
    "\n",
    "        special_symbol = False\n",
    "        current_slope = self.__frequency_slope\n",
    "\n",
    "\n",
    "        if symbol == LoraReservedArtifacts.FULL_UPCHIRP:\n",
    "            symbol = 0\n",
    "\n",
    "\n",
    "        elif symbol == LoraReservedArtifacts.FULL_DOWNCHIRP:\n",
    "            symbol = 2**self.__spreading_factor\n",
    "            current_slope = - current_slope\n",
    "            special_symbol = True\n",
    "        \n",
    "        elif symbol == LoraReservedArtifacts.QUARTER_DOWNCHIRP:\n",
    "            symbol = 2**self.__spreading_factor\n",
    "            current_slope = - current_slope\n",
    "            quarter_cycle_max_index = int(len(symbol_time_axis) // 4 + 1)\n",
    "            symbol_time_axis = symbol_time_axis[:quarter_cycle_max_index]\n",
    "            special_symbol = True\n",
    "\n",
    "        y_intercept = symbol * ( self.__bandwidth / (2**self.__spreading_factor) )\n",
    "        \n",
    "        for i in range(len(symbol_time_axis)):\n",
    "            instantaneous_frequency = y_intercept + current_slope * (symbol_time_axis[i])\n",
    "\n",
    "            if instantaneous_frequency >= self.__bandwidth and not special_symbol:\n",
    "                # Not necesarry to take into account multiples of bandwidth, as the duration of the chirp is limited \n",
    "                instantaneous_frequency -= self.__bandwidth\n",
    "\n",
    "            frequency_evolution.append(instantaneous_frequency)\n",
    "\n",
    "\n",
    "        return symbol_time_axis, frequency_evolution\n",
    "    \n",
    "    def generate_chirp_from_frequency_evolution(self, time_axis, frequency_evolution):\n",
    "        coefficient = 1/np.sqrt(2**self.__spreading_factor)\n",
    "        signal = []\n",
    "        for i in range(len(time_axis)):\n",
    "            instantaneous_phase = 1j * 2 * np.pi * frequency_evolution[i] * time_axis[i]\n",
    "            signal_sample = coefficient * np.exp(instantaneous_phase)\n",
    "            signal.append(signal_sample)\n",
    "        return signal\n",
    "\n",
    "    def modulate_symbols(self, symbol, also_return_frequency_evolution = False):\n",
    "        \n",
    "        if symbol not in range(self.__chips_number) and not isinstance(symbol, LoraReservedArtifacts):\n",
    "            raise ValueError(f\"Symbols have to be of type LoraReservedArtifacts or integers between 0 and {self.__chips_number - 1} for the given spreading factor\")\n",
    "        time_axis, frequency_evolution = self.generate_frequency_evolution_across_time(symbol)\n",
    "        signal = self.generate_chirp_from_frequency_evolution(time_axis, frequency_evolution)\n",
    "        if not also_return_frequency_evolution:\n",
    "            return time_axis, signal\n",
    "        return time_axis, signal, frequency_evolution\n",
    "\n",
    "    \n",
    "\n",
    "    \n",
    "\n"
   ]
  },
  {
   "cell_type": "markdown",
   "metadata": {},
   "source": [
    "## Demodulador Lora\n"
   ]
  },
  {
   "cell_type": "code",
   "execution_count": 65,
   "metadata": {},
   "outputs": [],
   "source": [
    "class LoraDemodulator:\n",
    "    def __init__(self, spreading_factor, bandwidth, oversampling_factor = 1):\n",
    "        # The spreading factor of the LoRa modulation\n",
    "        self.spreading_factor = spreading_factor\n",
    "        \n",
    "        # The bandwidth of the LoRa modulation in KiloHertz\n",
    "        self.bandwidth = bandwidth\n",
    "\n",
    "        self.__oversampling_factor = oversampling_factor\n",
    "    \n",
    "    def generate_full_downchirp(self):\n",
    "        # Number of discrete levels in the transmitted symbol that eventually will be mapped to a frequency\n",
    "        chips_number = 2**self.spreading_factor\n",
    "\n",
    "        # Number of samples per symbol\n",
    "        samples_per_symbol = int(chips_number)\n",
    "\n",
    "        # Time duration of each symbol\n",
    "        symbol_duration = (chips_number )/np.abs(self.bandwidth)\n",
    "\n",
    "        sampling_period = symbol_duration/samples_per_symbol\n",
    "\n",
    "        # Slope of the downchirp, defined by the bandwidth and the time duration of each symbol\n",
    "        slope = - (self.bandwidth**2) /(chips_number)\n",
    "\n",
    "        y_intercept = self.bandwidth - (self.bandwidth / chips_number)\n",
    "        \n",
    "\n",
    "        # Frequency evolution of the chirp signal\n",
    "        symbol_frequency_evolution = []\n",
    "\n",
    "        symbol_time_axis = np.linspace(0, symbol_duration, (samples_per_symbol-1) * self.__oversampling_factor +1)\n",
    "        # Signal\n",
    "        signal = []\n",
    "\n",
    "        for i in range(len(symbol_time_axis)):\n",
    "                \n",
    "            # Instantaneous frequency of the chirp signal, taking into account the bounds from the bandwidth by using the modulo operator\n",
    "            instantaneous_frequency = ( y_intercept + slope * symbol_time_axis[i] )\n",
    "            if instantaneous_frequency <= 0:\n",
    "                instantaneous_frequency += self.bandwidth\n",
    "            symbol_frequency_evolution.append(instantaneous_frequency) \n",
    "\n",
    "            instantaneous_phase = 1j * 2 * np.pi * instantaneous_frequency * symbol_time_axis[i] \n",
    "            coefficient = 1 / (np.sqrt(2**self.spreading_factor))\n",
    "            signal.append(coefficient * np.exp(instantaneous_phase))\n",
    "        plt.plot(symbol_frequency_evolution)\n",
    "        return symbol_time_axis, symbol_frequency_evolution, signal\n",
    "        \n",
    "    def dechirp_symbol(self, signal):\n",
    "        downchirp_signal = self.generate_full_downchirp()[2]\n",
    "        dechirped_signal = [signal[i] * downchirp_signal[i] for i in range(len(signal))]\n",
    "        return dechirped_signal\n",
    "    \n",
    "    def demodulate_symbol(self, signal):\n",
    "        dechirped_signal = self.dechirp_symbol(signal)\n",
    "        correlation = np.fft.fft(dechirped_signal)\n",
    "        observed_symbol = np.argmax(correlation)\n",
    "        return observed_symbol"
   ]
  },
  {
   "cell_type": "code",
   "execution_count": 85,
   "metadata": {},
   "outputs": [
    {
     "name": "stdout",
     "output_type": "stream",
     "text": [
      "Observed symbol: 64\n"
     ]
    },
    {
     "data": {
      "image/png": "[encoded data removed]",
      "text/plain": [
       "<Figure size 640x480 with 1 Axes>"
      ]
     },
     "metadata": {},
     "output_type": "display_data"
    }
   ],
   "source": [
    "lora_md = LoraModulator(7, 125000, 8)\n",
    "lora_dm = LoraDemodulator(7, 125000, 8)\n",
    "\n",
    "symbols = 65\n",
    "time_axis, signal, freq = lora_md.modulate_symbols(symbols, True)\n",
    "# signal = noise_generator(0.003, signal)[0]\n",
    "\n",
    "\n",
    "plt.plot(freq)\n",
    "observed_symbol = lora_dm.demodulate_symbol(signal)\n",
    "\n",
    "print(f\"Observed symbol: {observed_symbol}\")\n",
    "\n"
   ]
  },
  {
   "cell_type": "code",
   "execution_count": 12,
   "metadata": {},
   "outputs": [
    {
     "name": "stdout",
     "output_type": "stream",
     "text": [
      "Errors: 128\n"
     ]
    },
    {
     "data": {
      "text/plain": [
       "128"
      ]
     },
     "execution_count": 12,
     "metadata": {},
     "output_type": "execute_result"
    }
   ],
   "source": [
    "def test_symbols_sf7():\n",
    "    errors = 0\n",
    "    modulator = LoraModulator(7, 125000)\n",
    "    demodulator = LoraDemodulator(7, 125000)\n",
    "    for i in range(2**7):\n",
    "        symbols = [i]\n",
    "        signal = modulator.modulate_symbols(symbols)[1]\n",
    "        observed_symbol = demodulator.demodulate_symbol(signal)\n",
    "        if observed_symbol != symbols[0]:\n",
    "            errors += 1\n",
    "    print(f\"Errors: {errors}\")\n",
    "    return errors\n",
    "\n",
    "def test_all_symbols():\n",
    "    errors = 0\n",
    "    for sf in [7, 8, 9, 10, 11, 12]:\n",
    "        modulator = LoraModulator(sf, 125000)\n",
    "        demodulator = LoraDemodulator(sf, 125000)\n",
    "        for i in range(2**sf):\n",
    "            symbols = [i]\n",
    "            signal = modulator.modulate_symbols(symbols)[1]\n",
    "            observed_symbol = demodulator.demodulate_symbol(signal)\n",
    "            if observed_symbol != symbols[0]:\n",
    "                errors += 1\n",
    "    print(f\"Errors: {errors}\")\n",
    "    return errors\n",
    "test_symbols_sf7()"
   ]
  }
 ],
 "metadata": {
  "kernelspec": {
   "display_name": "Python 3",
   "language": "python",
   "name": "python3"
  },
  "language_info": {
   "codemirror_mode": {
    "name": "ipython",
    "version": 3
   },
   "file_extension": ".py",
   "mimetype": "text/x-python",
   "name": "python",
   "nbconvert_exporter": "python",
   "pygments_lexer": "ipython3",
   "version": "3.12.0"
  }
 },
 "nbformat": 4,
 "nbformat_minor": 2
}
