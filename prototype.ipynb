{
 "cells": [
  {
   "cell_type": "markdown",
   "metadata": {},
   "source": [
    "# Prototipo de MoDem especializado en la técnica LoRa para la transmisión y recepción en SDRs (V 0.1.0)\n",
    "\n"
   ]
  },
  {
   "cell_type": "markdown",
   "metadata": {},
   "source": [
    "## Implementación del MoDem LoRa\n"
   ]
  },
  {
   "cell_type": "markdown",
   "metadata": {},
   "source": [
    "La modulación LoRa se podría catalogar como una **manera sistemática de encapsular símbolos** a través de distintas configuraciones en la evolución lineal de la frecuencia para una señal chirp, actuante de portadora.\n",
    "\n"
   ]
  },
  {
   "cell_type": "markdown",
   "metadata": {},
   "source": [
    "### Definición, implementación e implicancias de los parámetros"
   ]
  },
  {
   "cell_type": "markdown",
   "metadata": {},
   "source": [
    "Para poder llevar a cabo la implementación del MoDem, es necesario tener en cuenta aquellos parámetros del sistema de comunicación que se deban mantener a lo largo de cada transmisión. Así como en AM uno sintoniza a una frecuencia específica para estar en sintonía el transmisor con el receptor, en LoRa deberemos manifestar estos parámetros *externos* (omitiendo el Coding Rate por ahora):\n",
    "\n",
    "- Bandwidth (Ancho de Banda): El ancho de banda especificado para una transimisión LoRa deberá ser especificado ya que definirá los límites inferiores y superiores en los que la frecuencia presentará esta variación. Es decir, si establecemos un ancho de banda de por ejemplo $Bw = 125$ kHz, se tendrá entonces una evolución de la frecuencia siempre entre esos valores. \n",
    "  \n",
    "- Spreading Factor (Factor de expansión): Este parámetro engloba dos responsabilidades: Representar la cantidad de bits que se podrán transmitir en un símbolo y que tanto se esparcirá en el tiempo (es decir, su duración) la transmisión del símbolo.\n",
    "\n",
    "- Resolución entre chips: Para esta implementación, se dará la posibilidad de *\"tender a lo analógico* a través del uso de un parámetro de resolución, que permitirá expandir los puntos renderizados (más allá de los mínimos). Se representará en el álgebra como $R_B$ donde la $R$ se refiere a \"resolución\" y la $B$ se refiere al término anglosajón \"in-between\" de \"entre\".\n",
    "  \n",
    "   **OJO CON USAR NP.LINSPACE y los impares**\n",
    "\n",
    "Además, podemos catalogar a los parámetros *internos* como aquellos que se deducen directamente a partir de los parámetros internos antes mencionados, así poder reutilizarlos como variables una vez se realice el código:\n",
    "\n",
    "- Chips y Número de Chips: El chip representa la unidad fundamental de información, resultante de la expansión realizada por el $SF$. Es equivalente (aunque no son sinónimos) con la cantidad de combinaciones posibles para transmitir un símbolo, a saber: $N_{C}= 2^{SF}$. Es decir, que el chip es item de menor expresión en la secuencia de evolución de frecuencia a lo largo del tiempo. (Es decir, la mínima muestra que mantiene el concepto de la técnica LoRa)\n",
    "\n",
    "- Samples Per Symbol (Muestras por símbolo): Representa cuantos puntos se renderizarán en la función discreta. Para ello, podremos calcularla como: $SPS = N_{C} \\cdot R_B$. Con que las muestras por símbolo equivalgan al número de chips, ya se tiene una representación suficiente de cada chip. Sin embargo, se puede multiplicar esto por un factor de resolución para aumentar el número de muestras.\n",
    "\n",
    "- Symbol Duration (duración por símbolo): Representa cuanto tiempo le tomará a nuestro chirp barrer todo el ancho de banda. Este se calcula como: $T_S= \\frac{N_{C}}{Bw}$\n",
    "- Frequency Slope (pendiente de frecuencia): Representa la tasa de cambio de la evolución lineal de nuestra frecuencia. Se calcula como cualquier otra pendiente, tomándonos la libertad de asumir como 0 el símbolo transmitido, para evitar introducir la discontinuidad, aprovechando de que la pendiente será constnate incluso en presencia de discontinuidades:\n",
    "  \n",
    "    $m_f = \\frac{\\Delta Y}{\\delta X} =  \\frac{(Bw - 0)}{\\frac{N_{C}}{Bw}-0} = \\frac{Bw^2}{N_c}$"
   ]
  },
  {
   "cell_type": "markdown",
   "metadata": {},
   "source": [
    "### Evolución de la Frecuencia instantánea a través del tiempo"
   ]
  },
  {
   "cell_type": "markdown",
   "metadata": {},
   "source": [
    "Para poder determinar la evolución lineal de la frecuencia instantánea a lo largo del tiempo en base a los símbolos a enviar, se utilizará un simple algoritmo que empleando la duración de símbolo, la pendiente y la ordenada al origen de cada símbolo."
   ]
  },
  {
   "cell_type": "code",
   "execution_count": 35,
   "metadata": {},
   "outputs": [],
   "source": [
    "from enum import Enum\n",
    "import numpy as np\n",
    "import matplotlib.pyplot as plt\n",
    "\n",
    "class LoraReservedArtifacts(Enum):\n",
    "    FULL_UPCHIRP = 0\n",
    "    FULL_DOWNCHIRP = 1\n",
    "    QUARTER_DOWNCHIRP = 2\n",
    "\n",
    "\n",
    "class LoraModulator:\n",
    "    def __init__(self, spreading_factor, bandwidth, resolution_between_chips):\n",
    "        # LoRa technique external parameters\n",
    "        self.spreading_factor = spreading_factor\n",
    "        self.bandwidth = bandwidth\n",
    "        self.resolution_between_chips = resolution_between_chips\n",
    "\n",
    "        # Lora technique internal parameters\n",
    "        self.__chips_number = 2 ** spreading_factor\n",
    "        self.__symbol_duration = self.__chips_number / bandwidth\n",
    "        self.__samples_per_symbol = int(self.__chips_number * resolution_between_chips)\n",
    "        self.__sampling_period = self.__symbol_duration / self.__samples_per_symbol\n",
    "        self.__frequency_slope = (bandwidth ** 2) / self.__chips_number\n",
    "\n",
    "    # temp\n",
    "    def validate(self):\n",
    "        assert self.spreading_factor in [7, 8, 9, 10, 11, 12]\n",
    "        assert self.bandwidth in [125, 250, 500]\n",
    "        assert self.resolution_between_chips in [4, 8]\n",
    "\n",
    "    def generate_frequency_evolution_across_time(self, symbols):\n",
    "\n",
    "        frequency_evolution = []\n",
    "        time_axis = []\n",
    "        current_offset = 0\n",
    "        \n",
    "        for symbol in symbols:\n",
    "            current_slope = self.__frequency_slope\n",
    "\n",
    "            \n",
    "\n",
    "            symbol_time_axis = np.arange(current_offset, current_offset + self.__symbol_duration, self.__sampling_period)\n",
    "\n",
    "            print(\"time for this symbol: \",\"[\",symbol_time_axis[0],\"...\",symbol_time_axis[-1],\"]\")\n",
    "\n",
    "            print(\"current offset for this symbol (should match the next value of the last time in the previous symbol):\",current_offset)\n",
    "\n",
    "            A = False\n",
    "            time_axis.append\n",
    "            if symbol == LoraReservedArtifacts.FULL_UPCHIRP:\n",
    "                symbol = 0\n",
    "\n",
    "            elif symbol == LoraReservedArtifacts.FULL_DOWNCHIRP:\n",
    "                symbol = 2**self.spreading_factor - 1\n",
    "                current_slope = - current_slope\n",
    "            \n",
    "            elif symbol == LoraReservedArtifacts.QUARTER_DOWNCHIRP:\n",
    "                symbol = 2**self.spreading_factor - 1\n",
    "                current_slope = - current_slope\n",
    "                quarter_cycle_max_index = int(len(symbol_time_axis)//4 + 1)\n",
    "                symbol_time_axis = symbol_time_axis[:quarter_cycle_max_index]\n",
    "                A = True\n",
    "\n",
    "            if A:\n",
    "                print(len(symbol_time_axis))\n",
    "                print(\"NEW time for this symbol: \",\"[\",symbol_time_axis[0],\"...\",symbol_time_axis[-1],\"]\")\n",
    "\n",
    "            # Not using chips number due to theorical reasons (equivalent in value, not in meaning)\n",
    "            y_intercept = symbol * ( self.bandwidth / (2**self.spreading_factor - 1) )\n",
    "            print(\"y intercept: \",y_intercept)\n",
    "\n",
    "            for i in range(len(symbol_time_axis)):\n",
    "                instantaneous_frequency = y_intercept + current_slope * (symbol_time_axis[i] - current_offset)\n",
    "\n",
    "                if instantaneous_frequency > self.bandwidth:\n",
    "                    # Not necesarry to take into account multiples of bandwidth, as the duration of the chirp is limited \n",
    "                    # (i think)\n",
    "                    instantaneous_frequency -= self.bandwidth\n",
    "\n",
    "                frequency_evolution.append(instantaneous_frequency)\n",
    "            \n",
    "            time_axis.extend(symbol_time_axis)\n",
    "            \n",
    "            time_stop = current_offset + self.__symbol_duration + self.__sampling_period\n",
    "            current_offset = time_stop\n",
    "            print(\"end it loop\")\n",
    "\n",
    "        return time_axis, frequency_evolution\n",
    "    def generate_chirp_from_frequency_evolution(self, time_axis, frequency_evolution):\n",
    "        pass\n",
    "        \n",
    "\n",
    "        "
   ]
  },
  {
   "cell_type": "code",
   "execution_count": 36,
   "metadata": {},
   "outputs": [
    {
     "name": "stdout",
     "output_type": "stream",
     "text": [
      "time for this symbol:  [ 0.0 ... 1.016 ]\n",
      "current offset for this symbol (should match the next value of the last time in the previous symbol): 0\n",
      "33\n",
      "NEW time for this symbol:  [ 0.0 ... 0.256 ]\n",
      "y intercept:  125.0\n",
      "end it loop\n",
      "time for this symbol:  [ 1.032 ... 2.048000000000001 ]\n",
      "current offset for this symbol (should match the next value of the last time in the previous symbol): 1.032\n",
      "y intercept:  0.0\n",
      "end it loop\n"
     ]
    },
    {
     "data": {
      "text/plain": [
       "[<matplotlib.lines.Line2D at 0x20cf16cb8c0>]"
      ]
     },
     "execution_count": 36,
     "metadata": {},
     "output_type": "execute_result"
    },
    {
     "data": {
      "image/png": "[encoded data removed]",
      "text/plain": [
       "<Figure size 640x480 with 1 Axes>"
      ]
     },
     "metadata": {},
     "output_type": "display_data"
    }
   ],
   "source": [
    "l = LoraModulator(7, 125, 1)\n",
    "t,f = l.generate_frequency_evolution_across_time([LoraReservedArtifacts.QUARTER_DOWNCHIRP,0])\n",
    "plt.plot(t,f)"
   ]
  },
  {
   "cell_type": "code",
   "execution_count": null,
   "metadata": {},
   "outputs": [],
   "source": [
    "    # def __init__(self):\n",
    "    #     self.__modem = None\n",
    "    #     self.__modem = __import__('modem')\n",
    "    #     self.__modem = self.__modem.Modem()\n",
    "    #     self.__modem.set_mode('lora')\n",
    "    #     self.__modem.set_freq(868.1)\n",
    "    #     self.__modem.set_pwr(14)\n",
    "    #     self.__modem.set_sf(12)\n",
    "    #     self.__modem.set_bw(125)\n",
    "    #     self.__modem.set_cr(4/5)\n",
    "    #     self.__modem.set_sync_word(0x12)\n",
    "    #     self.__modem.set_iq_invert(False)\n",
    "    #     self.__modem.set_crc(True)\n",
    "    #     self.__modem.set_preamble(8)\n",
    "    #     self.__modem.set_header(True)\n",
    "    #     self.__modem.set_payload_length(0)\n",
    "    #     self.__modem.set_timeout(1000)\n",
    "    #     self.__modem.set_sync_word(0x12)\n",
    "    #     self.__modem.set_iq_invert(False)\n",
    "    #     self.__modem.set_crc(True)\n",
    "    #     self.__modem.set_preamble(8)\n",
    "    #     self.__modem.set_header(True)\n",
    "    #     self.__modem.set_payload_length(0)\n",
    "    #     self.__modem.set_timeout(1000)\n",
    "\n",
    "    # def send(self, data):\n",
    "    #     self.__modem.send(data)\n",
    "\n",
    "    # def receive(self):\n",
    "    #     return self.__modem.receive()\n",
    "\n",
    "    # def close(self):\n",
    "    #     self.__modem.close()"
   ]
  },
  {
   "cell_type": "code",
   "execution_count": null,
   "metadata": {},
   "outputs": [
    {
     "name": "stdout",
     "output_type": "stream",
     "text": [
      "[0. 1.]\n",
      "[0.         0.66666667 1.33333333 2.        ]\n",
      "[0.  0.6 1.2 1.8 2.4 3. ]\n",
      "[0.         0.57142857 1.14285714 1.71428571 2.28571429 2.85714286\n",
      " 3.42857143 4.        ]\n",
      "[0.         0.55555556 1.11111111 1.66666667 2.22222222 2.77777778\n",
      " 3.33333333 3.88888889 4.44444444 5.        ]\n",
      "[0.         0.54545455 1.09090909 1.63636364 2.18181818 2.72727273\n",
      " 3.27272727 3.81818182 4.36363636 4.90909091 5.45454545 6.        ]\n",
      "[0.         0.53846154 1.07692308 1.61538462 2.15384615 2.69230769\n",
      " 3.23076923 3.76923077 4.30769231 4.84615385 5.38461538 5.92307692\n",
      " 6.46153846 7.        ]\n",
      "[0.         0.53333333 1.06666667 1.6        2.13333333 2.66666667\n",
      " 3.2        3.73333333 4.26666667 4.8        5.33333333 5.86666667\n",
      " 6.4        6.93333333 7.46666667 8.        ]\n",
      "[0.         0.52941176 1.05882353 1.58823529 2.11764706 2.64705882\n",
      " 3.17647059 3.70588235 4.23529412 4.76470588 5.29411765 5.82352941\n",
      " 6.35294118 6.88235294 7.41176471 7.94117647 8.47058824 9.        ]\n"
     ]
    }
   ],
   "source": [
    "import numpy as np\n",
    "for b in range(1, 10):\n",
    "    a = np.linspace(0, 1*b, 2*b)\n",
    "    print(a)"
   ]
  }
 ],
 "metadata": {
  "kernelspec": {
   "display_name": "Python 3",
   "language": "python",
   "name": "python3"
  },
  "language_info": {
   "codemirror_mode": {
    "name": "ipython",
    "version": 3
   },
   "file_extension": ".py",
   "mimetype": "text/x-python",
   "name": "python",
   "nbconvert_exporter": "python",
   "pygments_lexer": "ipython3",
   "version": "3.12.0"
  }
 },
 "nbformat": 4,
 "nbformat_minor": 2
}
