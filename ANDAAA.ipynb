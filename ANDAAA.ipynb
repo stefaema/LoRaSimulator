{
 "cells": [
  {
   "cell_type": "code",
   "execution_count": 1,
   "metadata": {},
   "outputs": [],
   "source": [
    "import numpy as np\n",
    "import matplotlib.pyplot as plt"
   ]
  },
  {
   "cell_type": "markdown",
   "metadata": {},
   "source": [
    "$w(t,c)= \\frac{1}{\\sqrt{2^{SF}}}e^{2\\pi (c \\frac{bw}{2^{SF}-1}+\\frac{bw^2}{2^{SF}-1}t)t}$ \n",
    "\n",
    "donde $(c \\frac{bw}{2^{SF}-1}+\\frac{bw^2}{2^{SF}-1}t)$ se limita al rango $[0,bw]$ y cuando lo supera se resta $bw$"
   ]
  },
  {
   "cell_type": "code",
   "execution_count": 10,
   "metadata": {},
   "outputs": [
    {
     "name": "stdout",
     "output_type": "stream",
     "text": [
      "Errors found:  False\n"
     ]
    }
   ],
   "source": [
    "sf = 7\n",
    "bw = 125000\n",
    "\n",
    "def freq_evol(sf,bw,symbol, timeline):\n",
    "    slope = bw**2/(2**sf - 1)\n",
    "    y_intercept = symbol*(bw/2**sf)\n",
    "    freq_evol = []\n",
    "    for i in range(len(timeline)):\n",
    "        freq_evol.append(slope*timeline[i] + y_intercept)\n",
    "        if freq_evol[i] > bw:\n",
    "            freq_evol[i] = freq_evol[i] - bw\n",
    "    return freq_evol\n",
    "\n",
    "def signal_from_evol(sf, bw, freq, timeline):\n",
    "    signal = []\n",
    "    coeff = 1/(np.sqrt(2**sf))\n",
    "    for i in range(len(timeline)):\n",
    "        phase = 2*np.pi*freq[i]\n",
    "        signal.append(coeff * np.exp(1j*phase*timeline[i]))\n",
    "    return signal\n",
    "\n",
    "def generate_downchirp(sf,bw, timeline):\n",
    "    freq = []\n",
    "    signal = []\n",
    "    coeff = 1/(np.sqrt(2**sf))\n",
    "    for i in range(len(timeline)):\n",
    "        freq.append( bw - ( bw**2 / (2**sf - 1) ) * timeline[i] )\n",
    "        phase = 2*np.pi*freq[i]*timeline[i]\n",
    "        signal.append(coeff * np.exp(1j * phase))\n",
    "    return freq, signal\n",
    "\n",
    "def demodulate(downchirp, signal):\n",
    "    demod = []\n",
    "    for i in range(len(timeline)):\n",
    "        demod.append(downchirp[i]*signal[i])\n",
    "    symbol= np.argmax(np.fft.fft(demod))\n",
    "    return symbol\n",
    "\n",
    "errors = False\n",
    "for i in range(0,2**sf):\n",
    "    timeline = np.linspace(0, (2**sf-1)*(1/bw), 2**sf)\n",
    "    freq = freq_evol(sf,bw, i,timeline)\n",
    "    signal = signal_from_evol(sf,bw,freq,timeline)\n",
    "    downchirp, downchirp_signal = generate_downchirp(sf,bw,timeline)\n",
    "    demod_symbol = demodulate(downchirp_signal,signal)\n",
    "    if i != demod_symbol:\n",
    "        errors = True\n",
    "        print(\"Symbol: \", i, \"Demodulated unsuccesfully as: \", demod_symbol)\n",
    "print('Errors found: ', errors)\n"
   ]
  }
 ],
 "metadata": {
  "kernelspec": {
   "display_name": "Python 3",
   "language": "python",
   "name": "python3"
  },
  "language_info": {
   "codemirror_mode": {
    "name": "ipython",
    "version": 3
   },
   "file_extension": ".py",
   "mimetype": "text/x-python",
   "name": "python",
   "nbconvert_exporter": "python",
   "pygments_lexer": "ipython3",
   "version": "3.12.3"
  }
 },
 "nbformat": 4,
 "nbformat_minor": 2
}
