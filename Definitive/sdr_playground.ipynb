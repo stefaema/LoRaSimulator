{
 "cells": [
  {
   "cell_type": "code",
   "execution_count": 6,
   "metadata": {},
   "outputs": [],
   "source": [
    "import numpy as np\n",
    "import matplotlib.pyplot as plt\n",
    "from lora_modem import LoraModulator, LoraDemodulator, LoraSynchronizer\n"
   ]
  },
  {
   "cell_type": "code",
   "execution_count": 28,
   "metadata": {},
   "outputs": [
    {
     "name": "stdout",
     "output_type": "stream",
     "text": [
      "SDR for group 9: \n",
      "IP: \"ip:192.168.1.35\" \n",
      "Carrier Frequency: 942000000.0\n"
     ]
    }
   ],
   "source": [
    "def get_sdr_info(group_number):\n",
    "    if group_number <= 0 or group_number > 13:\n",
    "        raise ValueError(\"Invalid group number\")\n",
    "    IPs = [-1, 'ip:192.168.1.31', 'ip:192.168.1.31', 'ip:192.168.1.32', 'ip:192.168.1.32', 'ip:192.168.1.33', 'ip:192.168.1.33', 'ip:192.168.1.34', 'ip:192.168.1.34', 'ip:192.168.1.35', 'ip:192.168.1.35', 'ip:192.168.1.36', 'ip:192.168.1.36', 'ip:192.168.1.37', 'ip:192.168.1.37']\n",
    "    Carrier_freq = [-1, 910e6, 914e6, 918e6, 922e6, 926e6, 930e6, 934e6, 938e6, 942e6, 946e6, 950e6, 954e6, 958e6, 962e6]\n",
    "    print(f\"SDR for group {group_number}: \\nIP: \\\"{IPs[group_number]}\\\" \\nCarrier Frequency: {Carrier_freq[group_number]}\")\n",
    "    return IPs[group_number], Carrier_freq[group_number]\n",
    "\n",
    "ip, CarrierFreq = get_sdr_info(9)"
   ]
  },
  {
   "cell_type": "code",
   "execution_count": 3,
   "metadata": {},
   "outputs": [],
   "source": [
    "import adi\n",
    "\n",
    "#------------------------------- SDR Parameter Configuration -------------------------------\n",
    "\n",
    "Uri              = ip            # RELLENAR CON LA IP DEL SDR ASIGNADO\n",
    "SamplingRate     = 2e6           # Sample rate RX and TX paths[Samples/Sec]\n",
    "Loopback         = 1             # 0=Disabled, 1=Digital, 2=RF\n",
    "\n",
    "TxLOFreq         = CarrierFreq         # Carrier frequency of TX path [Hz] RELLENAR CON LA FREC. DE PORTADORA ASIGNADA\n",
    "TxAtten          = -10           # Attenuation applied to TX path, valid range is -90 to 0 dB [dB]\n",
    "TxRfBw           = 4e6           # Bandwidth of front-end analog filter of TX path [Hz]\n",
    "\n",
    "RxLOFreq         = TxLOFreq      # Carrier frequency of RX path [Hz]\n",
    "GainControlModes = \"slow_attack\" # Receive path AGC Options: slow_attack, fast_attack, manual\n",
    "RxHardwareGain   = 0             # Gain applied to RX path. Only applicable when gain_control_mode is set to 'manual'    \n",
    "RxRfBw           = TxRfBw        # Bandwidth of front-end analog filter of RX path [Hz] \n",
    "RxBufferSize     = 2**20-1\n",
    "\n",
    "#------------------------------- SDR Setup ------------------------------- \n",
    "\n",
    "sdr             = adi.Pluto(Uri)\n",
    "sdr.sample_rate = SamplingRate\n",
    "sdr.loopback    = Loopback\n",
    "#Tx:\n",
    "sdr.tx_lo                 = int(TxLOFreq)\n",
    "sdr.tx_hardwaregain_chan0 = TxAtten \n",
    "sdr.tx_rf_bandwidth       = int(TxRfBw)\n",
    "sdr.tx_cyclic_buffer      = True\n",
    "# Rx:\n",
    "sdr.rx_lo                   = int(RxLOFreq)\n",
    "sdr.gain_control_mode_chan0 = GainControlModes\n",
    "sdr.rx_rf_bandwidth         = int(RxRfBw)\n",
    "sdr.rx_cyclic_buffer        = False\n",
    "sdr.rx_buffer_size          = RxBufferSize"
   ]
  },
  {
   "cell_type": "code",
   "execution_count": null,
   "metadata": {},
   "outputs": [],
   "source": [
    "# ------------------------------- Graphic Plot Generation -------------------------------"
   ]
  },
  {
   "cell_type": "code",
   "execution_count": 25,
   "metadata": {
    "scrolled": true
   },
   "outputs": [
    {
     "ename": "NameError",
     "evalue": "name 'sdr' is not defined",
     "output_type": "error",
     "traceback": [
      "\u001b[1;31m---------------------------------------------------------------------------\u001b[0m",
      "\u001b[1;31mNameError\u001b[0m                                 Traceback (most recent call last)",
      "Cell \u001b[1;32mIn[25], line 15\u001b[0m\n\u001b[0;32m     10\u001b[0m payload \u001b[38;5;241m=\u001b[39m [\u001b[38;5;241m10\u001b[39m, \u001b[38;5;241m50\u001b[39m, \u001b[38;5;241m93\u001b[39m]\n\u001b[0;32m     11\u001b[0m timeline, frequency, signal \u001b[38;5;241m=\u001b[39m modulator\u001b[38;5;241m.\u001b[39mmodulate_implicit_package(preamble_number, payload)\n\u001b[1;32m---> 15\u001b[0m \u001b[43msdr\u001b[49m\u001b[38;5;241m.\u001b[39mtx(signal \u001b[38;5;241m*\u001b[39m \u001b[38;5;241m2\u001b[39m\u001b[38;5;241m*\u001b[39m\u001b[38;5;241m*\u001b[39m\u001b[38;5;241m14\u001b[39m)\n\u001b[0;32m     16\u001b[0m rx_buffer \u001b[38;5;241m=\u001b[39m sdr\u001b[38;5;241m.\u001b[39mrx() \u001b[38;5;241m/\u001b[39m \u001b[38;5;241m2\u001b[39m\u001b[38;5;241m*\u001b[39m\u001b[38;5;241m*\u001b[39m\u001b[38;5;241m14\u001b[39m\n\u001b[0;32m     20\u001b[0m sync_rx_payload \u001b[38;5;241m=\u001b[39m synchronizer\u001b[38;5;241m.\u001b[39msynchronize_rx_buffer(rx_buffer)\n",
      "\u001b[1;31mNameError\u001b[0m: name 'sdr' is not defined"
     ]
    }
   ],
   "source": [
    "# ----- Playground -----\n",
    "spreading_factor = 7\n",
    "bandwidth = 125e3\n",
    "samples_per_chip = 5\n",
    "preamble_number = 8\n",
    "\n",
    "modulator = LoraModulator(spreading_factor, bandwidth, samples_per_chip)\n",
    "demodulator = LoraDemodulator(spreading_factor, bandwidth, samples_per_chip)\n",
    "synchronizer = LoraSynchronizer(spreading_factor, samples_per_chip, demodulator, preamble_number)\n",
    "payload = [10, 50, 93]\n",
    "\n",
    "\n",
    "pkg_signal, payload_signal = modulator.modulate_n_plot_explicit_package(preamble_number, payload, use_preamble=False, return_payload_signal=True)\n",
    "\n",
    "\n",
    "sdr.tx(pkg_signal * 2**14)\n",
    "\n",
    "rx_buffer = sdr.rx() / 2**14\n",
    "\n",
    "sync_rx_payload = synchronizer.synchronize_rx_buffer(rx_buffer)\n",
    "synchronizer.plot_synchronization(rx_buffer, sync_rx_payload, payload_signal)\n",
    "\n",
    "if sync_rx_payload is not None:\n",
    "    received_symbols = demodulator.demodulate_n_plot_symbols(sync_rx_payload)\n",
    "    print('Received symbols: ', received_symbols)\n"
   ]
  },
  {
   "cell_type": "code",
   "execution_count": null,
   "metadata": {},
   "outputs": [],
   "source": [
    "# Since it is not possible to turn off Tx, it is configured to transmit at low power and on a different frequency than Rx.\n",
    "sdr.tx_destroy_buffer()\n",
    "sdr.tx_hardwaregain_chan0 = -89 \n",
    "sdr.tx_lo                 = int(2400e6)\n",
    "sdr.rx_lo                 = int(950e6)\n",
    "sdr.tx(np.zeros(2048))\n",
    "# Destroy radio object\n",
    "del(sdr)"
   ]
  }
 ],
 "metadata": {
  "kernelspec": {
   "display_name": "Python 3 (ipykernel)",
   "language": "python",
   "name": "python3"
  },
  "language_info": {
   "codemirror_mode": {
    "name": "ipython",
    "version": 3
   },
   "file_extension": ".py",
   "mimetype": "text/x-python",
   "name": "python",
   "nbconvert_exporter": "python",
   "pygments_lexer": "ipython3",
   "version": "3.12.0"
  }
 },
 "nbformat": 4,
 "nbformat_minor": 2
}
