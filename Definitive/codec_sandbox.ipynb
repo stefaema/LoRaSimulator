{
 "cells": [
  {
   "cell_type": "code",
   "execution_count": 7,
   "metadata": {},
   "outputs": [
    {
     "name": "stdout",
     "output_type": "stream",
     "text": [
      "Original data: Hello, World!\n",
      "Encoded data: [0, 72, 101, 108, 108, 111, 44, 32, 87, 111, 114, 108, 100, 33]\n",
      "Decoded data: Hello, World!\n"
     ]
    }
   ],
   "source": [
    "from lora_modem import Codec\n",
    "\n",
    "spreading_factor = 8\n",
    "bandwidth = 125e3\n",
    "samples_per_chip = 1\n",
    "LoraCodec = Codec(spreading_factor, bandwidth, samples_per_chip)\n",
    "\n",
    "# Test data\n",
    "data = b'Hello, World!'\n",
    "\n",
    "# Encode data\n",
    "encoded_data = LoraCodec.encode(data)\n",
    "\n",
    "# Decode data\n",
    "decoded_data = LoraCodec.decode(encoded_data).decode('utf-8')\n",
    "\n",
    "print(f'Original data: {data.decode('utf-8')}')\n",
    "print(f'Encoded data: {encoded_data}')\n",
    "print(f'Decoded data: {decoded_data}')\n"
   ]
  }
 ],
 "metadata": {
  "kernelspec": {
   "display_name": "Python 3",
   "language": "python",
   "name": "python3"
  },
  "language_info": {
   "codemirror_mode": {
    "name": "ipython",
    "version": 3
   },
   "file_extension": ".py",
   "mimetype": "text/x-python",
   "name": "python",
   "nbconvert_exporter": "python",
   "pygments_lexer": "ipython3",
   "version": "3.12.0"
  }
 },
 "nbformat": 4,
 "nbformat_minor": 2
}
