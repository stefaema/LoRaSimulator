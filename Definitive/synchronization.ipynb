{
 "cells": [
  {
   "cell_type": "code",
   "execution_count": 1,
   "metadata": {},
   "outputs": [],
   "source": [
    "import numpy as np\n",
    "import matplotlib.pyplot as plt\n",
    "from lora_modem import LoraModulator, LoraDemodulator, LoraReservedArtifacts, LoraSynchronizer"
   ]
  },
  {
   "cell_type": "markdown",
   "metadata": {},
   "source": [
    "# LoRa Synchronization"
   ]
  },
  {
   "cell_type": "markdown",
   "metadata": {},
   "source": [
    "### Fase 1: Búsqueda de Upchirps"
   ]
  },
  {
   "cell_type": "markdown",
   "metadata": {},
   "source": [
    "1. **Segmentación del Buffer de Recepción:**\n",
    "   - El buffer de recepción (`rx_signal`) se segmenta en segmentos de tamaño `SPC * 2^SF` muestras, donde `SPC` es `samples_per_chip` y `SF` es `spreading_factor`. Este tamaño se denomina `SPS` (Samples Per Symbol).\n",
    "\n",
    "2. **Iteración con Desplazamientos de una Muestra:**\n",
    "   - Se itera sobre el buffer de recepción con desplazamientos de una muestra a la vez. En cada iteración, se extrae un segmento del tamaño `SPS` para analizar.\n",
    "\n",
    "3. **Detección de Upchirps:**\n",
    "   - Por cada segmento, se intenta detectar un `upchirp` utilizando el método `detect_chirp`. Si no se detecta un `upchirp`, se continúa iterando.\n",
    "\n",
    "4. **Inicio de la Fase 2:**\n",
    "   - Al detectar un `upchirp`, se utiliza ese índice como el punto de partida para la Fase 2.\n"
   ]
  },
  {
   "cell_type": "markdown",
   "metadata": {},
   "source": [
    "### Fase 2: Verificación del Preambulo"
   ]
  },
  {
   "cell_type": "markdown",
   "metadata": {},
   "source": [
    "1. **Verificación de la Secuencia de Preambulo:**\n",
    "   - A partir del índice donde se detectó el `upchirp`, se verifica si los siguientes segmentos también contienen `upchirps` y `downchirps` en la secuencia esperada para un preámbulo.\n",
    "\n",
    "2. **Reconstrucción del Preambulo:**\n",
    "   - Se reconstruye el preámbulo detectando `upchirps` y `downchirps` consecutivos. Si se detecta un `downchirp` seguido de otro `downchirp`, se asume que se ha encontrado el final del preámbulo.\n",
    "\n",
    "3. **Cálculo del Índice de Inicio del Payload:**\n",
    "   - Si se encuentra el preámbulo, se calcula el índice de inicio del payload (`payload_index`) y se pasa a la Fase 3 si `samples_per_chip` es mayor que 1.\n"
   ]
  },
  {
   "cell_type": "markdown",
   "metadata": {},
   "source": [
    "### Fase 3: Refinamiento de la Sincronización"
   ]
  },
  {
   "cell_type": "markdown",
   "metadata": {},
   "source": [
    "\n",
    "\n",
    "1. **Evaluación de Desplazamientos:**\n",
    "   - Si `samples_per_chip` es mayor que 1, se realiza un refinamiento de la sincronización evaluando diferentes desplazamientos (`offsets`) para encontrar el que proporcione la mejor calidad de sincronización.\n",
    "\n",
    "2. **Cálculo de la Calidad de Sincronización:**\n",
    "   - Se evalúa la calidad de sincronización para cada desplazamiento calculando la magnitud media de los símbolos demodulados.\n",
    "\n",
    "3. **Selección del Mejor Desplazamiento:**\n",
    "   - Se selecciona el desplazamiento que asegura la mayor calidad de sincronización y se ajusta el índice de inicio del payload (`payload_index`) en consecuencia."
   ]
  },
  {
   "cell_type": "markdown",
   "metadata": {},
   "source": [
    "### Fase 4: Detección del fin del paquete"
   ]
  },
  {
   "cell_type": "markdown",
   "metadata": {},
   "source": [
    "Una vez se tiene el índice exacto donde está el payload, se tiene en cuenta de que el paquete que se envió tiene un pequeño header implícito: Siempre el primer símbolo de la carga útil contiene la cantidad de símbolos que le siguen y que conforman a la totalidad del paquete.\n",
    "\n",
    "De esta forma, si yo demodulo este símbolo obtengo la cantidad de símbolos que faltan, y por lo tanto, al tenes la cantidad de muestras por símbolo, cuantas muestras quedan.\n"
   ]
  },
  {
   "cell_type": "markdown",
   "metadata": {},
   "source": [
    "### Código"
   ]
  },
  {
   "cell_type": "code",
   "execution_count": 46,
   "metadata": {},
   "outputs": [],
   "source": [
    "class LoraSync():\n",
    "    def validate_parameters(self, spreading_factor, samples_per_chip, demodulator, preamble_number):\n",
    "        if spreading_factor not in range(7, 13) or not isinstance(spreading_factor, int):\n",
    "            raise ValueError('The spreading factor must be an integer between 7 and 12.')\n",
    "        if samples_per_chip < 1 or not isinstance(preamble_number, int):\n",
    "            raise ValueError('Samples per chip must be a positive integer')\n",
    "        if not isinstance(demodulator, LoraDemodulator):\n",
    "            raise ValueError('Demodulator must be an instance of LoraDemodulator')\n",
    "        if preamble_number < 1 or not isinstance(preamble_number, int):\n",
    "            raise ValueError('Preamble number must be a positive integer')\n",
    "        \n",
    "    def __init__(self, spreading_factor, samples_per_chip, demodulator, preamble_number):\n",
    "        self.validate_parameters(spreading_factor, samples_per_chip, demodulator, preamble_number)\n",
    "        self._spreading_factor = spreading_factor\n",
    "        self._samples_per_chip = samples_per_chip\n",
    "        self._demodulator = demodulator \n",
    "        self._preamble_number = preamble_number\n",
    "\n",
    "    def _detect_chirp(self, signal_segment, chirp_type):\n",
    "        \"\"\"Helper function to detect specific chirp types in a given signal segment.\"\"\"\n",
    "        chirp_type = 'upchirp' if chirp_type == 'downchirp' else 'downchirp'\n",
    "        return self._demodulator.demodulate_symbol(signal_segment, chirp_type) == 0\n",
    "\n",
    "    def _get_samples_per_symbol(self):\n",
    "        return self._samples_per_chip * 2 ** self._spreading_factor\n",
    "\n",
    "    def synchronize_rx_buffer(self, rx_signal):\n",
    "        \"\"\"Synchronizes the received signal by detecting the LoRa preamble.\"\"\"\n",
    "        sps = self._get_samples_per_symbol()\n",
    "        preamble_found, payload_index, package_length = self._phase1sync(rx_signal)\n",
    "        #Ignoring of the payload length symbol\n",
    "        payload_index += sps\n",
    "\n",
    "        if preamble_found:\n",
    "            message_samples = (package_length) * sps \n",
    "            payload_start = payload_index\n",
    "            payload_end = payload_index + message_samples\n",
    "            rx_payload_segment = rx_signal[payload_start: payload_end]\n",
    "            return rx_payload_segment\n",
    "        else:\n",
    "            print('Synchronization failed!')\n",
    "            return None\n",
    "    \n",
    "    def _phase1sync(self, rx_signal):\n",
    "        \"\"\"Searches for the preamble in the signal, by first searching for upchirps.\"\"\"\n",
    "        sps = self._get_samples_per_symbol()\n",
    "        print('Synchronization started...')\n",
    "        print(\"Phase 1: Searching for upchirps...\")\n",
    "        for i in range(len(rx_signal)):\n",
    "            # Extract the iterative segment to analyze\n",
    "            segment = rx_signal[i:i + sps]\n",
    "            if len(segment) < sps:\n",
    "                break\n",
    "            # Check if the segment is an upchirp\n",
    "            if self._detect_chirp(segment, 'upchirp'):\n",
    "                print('Upchirp found at index: ', i)\n",
    "                # Check if the next symbols are members of the preamble (phase 2)\n",
    "                preamble_found, payload_index, reconstructed_preamble = self._phase2sync(rx_signal, i)\n",
    "                \n",
    "                if preamble_found:\n",
    "                    \n",
    "                    offset = 0\n",
    "                    if self._samples_per_chip > 1:\n",
    "                        \n",
    "                        payload_index, offset = self._phase3sync(rx_signal, i, payload_index, reconstructed_preamble)\n",
    "\n",
    "                    # This would be phase 4\n",
    "                    package_length = self._demodulator.demodulate_symbol(rx_signal[payload_index:payload_index + sps], 'downchirp')\n",
    "                    \n",
    "                    print('Synchronization successful!\\n-----------------------------------------------------------')\n",
    "                    \n",
    "                    print('Preamble found at index: ', i + offset)\n",
    "                    if self._samples_per_chip > 1:\n",
    "                        print('Refined by an offset of: ', offset)\n",
    "                    print('Package length: ', package_length)\n",
    "                    print('Payload starts at index: ', payload_index)\n",
    "                    upchirps = reconstructed_preamble.count(LoraReservedArtifacts.FULL_UPCHIRP)\n",
    "                    downchirps = reconstructed_preamble.count(LoraReservedArtifacts.FULL_DOWNCHIRP)\n",
    "                    print(f'Reconstructed preamble: [{upchirps + 1} upchirps, {downchirps} downchirps]')\n",
    "\n",
    "                    return True, payload_index, package_length\n",
    "        return False, -1, -1\n",
    "    \n",
    "    def _phase2sync(self, rx_signal, candidate_index):\n",
    "        \"\"\"Searches for the preamble in the vicinity of a candidate upchirp.\"\"\"\n",
    "        sps = self._get_samples_per_symbol()\n",
    "        \n",
    "        current_index = candidate_index + sps\n",
    "        \n",
    "        reconstructed_preamble = []\n",
    "        while True:\n",
    "            segment = rx_signal[current_index:current_index + sps]\n",
    "            if len(segment) < sps:\n",
    "                break\n",
    "            if self._detect_chirp(segment, 'upchirp'):\n",
    "                reconstructed_preamble.append(LoraReservedArtifacts.FULL_UPCHIRP)\n",
    "                current_index += sps\n",
    "                continue\n",
    "            elif self._detect_chirp(segment, 'downchirp'):\n",
    "                reconstructed_preamble.append(LoraReservedArtifacts.FULL_DOWNCHIRP)\n",
    "                current_index += sps\n",
    "                alleged_second_downchip = rx_signal[current_index:current_index + sps]\n",
    "                if self._detect_chirp(alleged_second_downchip, 'downchirp'):\n",
    "                    reconstructed_preamble.append(LoraReservedArtifacts.FULL_DOWNCHIRP)\n",
    "                    payload_index = int(current_index + sps * 1.25)\n",
    "                    print(\"Phase 2: Ensuring that the candidate upchirp is a preamble member...\")\n",
    "                    print(\"Preamble allegedly found at index: \", candidate_index)\n",
    "                    return True, payload_index, reconstructed_preamble\n",
    "                else:\n",
    "                    break\n",
    "            else:\n",
    "                break\n",
    "        return False, -1, -1\n",
    "    \n",
    "    def _evaluate_offset(self, rx_signal, candidate_index, offset, upchirps, downchirps):\n",
    "        \"\"\"Helper function to evaluate the quality of a given offset.\"\"\"\n",
    "        sps = self._get_samples_per_symbol()\n",
    "        upchirps_index = candidate_index + sps + offset\n",
    "        downchirps_index = upchirps_index + sps * upchirps\n",
    "        upchirps_length = sps * upchirps\n",
    "        downchirps_length = sps * downchirps\n",
    "        demod = []\n",
    "        upchirps_segment = rx_signal[upchirps_index:upchirps_index + upchirps_length]\n",
    "        downchirps_segment = rx_signal[downchirps_index:downchirps_index + downchirps_length]\n",
    "        upchirp_symbols, upchirp_magnitudes = self._demodulator.demodulate_symbols(upchirps_segment, 'downchirp', return_magnitude=True)\n",
    "        downchirp_symbols, downchirp_magnitudes = self._demodulator.demodulate_symbols(downchirps_segment, 'upchirp', return_magnitude=True)\n",
    "        magnitudes = np.concatenate((np.abs(upchirp_magnitudes), np.abs(downchirp_magnitudes)))\n",
    "        mean_magnitude = np.mean(magnitudes)\n",
    "        demod.extend(upchirp_symbols)\n",
    "        demod.extend(downchirp_symbols)\n",
    "        if demod.count(0) != len(demod):\n",
    "            return 0\n",
    "        return mean_magnitude\n",
    "\n",
    "        \n",
    "\n",
    "    def _phase3sync(self, rx_signal, candidate_index, payload_index, reconstructed_preamble):\n",
    "        \"\"\"Chooses the best offset to ensure a proper synchronization.\"\"\"\n",
    "        sps = self._get_samples_per_symbol()\n",
    "        print(\"Phase 3: Refining synchronization index... (SPC > 1 requires it)\")\n",
    "        upchirps = reconstructed_preamble.count(LoraReservedArtifacts.FULL_UPCHIRP)\n",
    "        downchirps = reconstructed_preamble.count(LoraReservedArtifacts.FULL_DOWNCHIRP)\n",
    "        offset = 0\n",
    "        offset_magnitudes = []\n",
    "        for offset in range(0, self._samples_per_chip):\n",
    "            mean_magnitude = self._evaluate_offset(rx_signal, candidate_index, offset, upchirps, downchirps)\n",
    "            offset_magnitudes.append(mean_magnitude)\n",
    "        chosen_offset = np.argmax(offset_magnitudes)\n",
    "        print(\"Offset quality measurements: \", offset_magnitudes)\n",
    "        print(\"Offset that ensures Highest Quality Synchronization: \", chosen_offset)\n",
    "        payload_index = chosen_offset + payload_index\n",
    "        return payload_index, chosen_offset\n"
   ]
  },
  {
   "cell_type": "code",
   "execution_count": 47,
   "metadata": {
    "scrolled": true
   },
   "outputs": [
    {
     "name": "stdout",
     "output_type": "stream",
     "text": [
      "Synchronization started...\n",
      "Phase 1: Searching for upchirps...\n",
      "Upchirp found at index:  130\n",
      "Upchirp found at index:  225\n",
      "Upchirp found at index:  310\n",
      "Upchirp found at index:  413\n",
      "Upchirp found at index:  414\n",
      "Upchirp found at index:  415\n",
      "Phase 2: Ensuring that the candidate upchirp is a preamble member...\n",
      "Preamble allegedly found at index:  415\n",
      "Phase 3: Refining synchronization index... (SPC > 1 requires it)\n",
      "Offset quality measurements:  [1.0, 0.9350668133971776, 0.7580270954155975, 0, 0]\n",
      "Offset that ensures Highest Quality Synchronization:  0\n",
      "Synchronization successful!\n",
      "-----------------------------------------------------------\n",
      "Preamble found at index:  415\n",
      "Refined by an offset of:  0\n",
      "Package length:  3\n",
      "Payload starts at index:  3135\n",
      "Reconstructed preamble: [2 upchirps, 2 downchirps]\n",
      "Received symbols:  [10, 50, 93]\n"
     ]
    }
   ],
   "source": [
    "def ciclify(signal):\n",
    "    \"\"\"Shifts the signal in a cyclical nature to simulate a real-world scenario where the signal's first sample isn't alligned to the first received one.\"\"\"\n",
    "    rx_buffer = np.array([signal, signal, signal]).flatten()\n",
    "    roll_factor = np.random.randint(0, len(rx_buffer)//2)\n",
    "    rx_buffer = np.roll(rx_buffer, roll_factor)\n",
    "\n",
    "    return rx_buffer\n",
    "\n",
    "\n",
    "# ----- Playground -----\n",
    "spreading_factor = 7\n",
    "bandwidth = 125e3\n",
    "samples_per_chip = 5\n",
    "preamble_number = 8\n",
    "payload = [10, 50, 93]\n",
    "\n",
    "modulator = LoraModulator(spreading_factor, bandwidth, samples_per_chip)\n",
    "demodulator = LoraDemodulator(spreading_factor, bandwidth, samples_per_chip)\n",
    "synchronizer = LoraSynchronizer(spreading_factor, samples_per_chip, demodulator, preamble_number)\n",
    "\n",
    "timeline, frequency, signal = modulator.modulate_implicit_package(preamble_number, payload)\n",
    "rx_buffer = ciclify(signal)\n",
    "\n",
    "\n",
    "sync_rx_payload = synchronizer.synchronize_rx_buffer(rx_buffer)\n",
    "\n",
    "if sync_rx_payload is not None:\n",
    "    received_symbols = demodulator.demodulate_symbols(sync_rx_payload)\n",
    "    print('Received symbols: ', received_symbols)\n"
   ]
  }
 ],
 "metadata": {
  "kernelspec": {
   "display_name": "Python 3 (ipykernel)",
   "language": "python",
   "name": "python3"
  },
  "language_info": {
   "codemirror_mode": {
    "name": "ipython",
    "version": 3
   },
   "file_extension": ".py",
   "mimetype": "text/x-python",
   "name": "python",
   "nbconvert_exporter": "python",
   "pygments_lexer": "ipython3",
   "version": "3.12.0"
  }
 },
 "nbformat": 4,
 "nbformat_minor": 2
}
