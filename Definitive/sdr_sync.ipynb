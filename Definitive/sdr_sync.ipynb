{
 "cells": [
  {
   "cell_type": "code",
   "execution_count": 1,
   "metadata": {},
   "outputs": [],
   "source": [
    "import numpy as np\n",
    "import matplotlib.pyplot as plt\n",
    "from lora_modem import LoraModulator, LoraDemodulator, LoraReservedArtifacts\n",
    "import adi"
   ]
  },
  {
   "cell_type": "code",
   "execution_count": 2,
   "metadata": {},
   "outputs": [],
   "source": [
    "class LoraSync:\n",
    "    def __init__(self, spreading_factor, samples_per_chip, demodulator, preamble_number):\n",
    "        self._spreading_factor = spreading_factor\n",
    "        self._samples_per_chip = samples_per_chip\n",
    "        self._demodulator = demodulator \n",
    "        self._preamble_number = preamble_number\n",
    "\n",
    "    def _detect_chirp(self, signal_segment, chirp_type):\n",
    "        \"\"\"Helper function to detect specific chirp types in a given signal segment.\"\"\"\n",
    "        chirp_type = 'upchirp' if chirp_type == 'downchirp' else 'downchirp'\n",
    "        return self._demodulator.demodulate_symbol(signal_segment, chirp_type) == 0\n",
    "\n",
    "    def _get_samples_per_symbol(self):\n",
    "        return self._samples_per_chip * 2 ** self._spreading_factor\n",
    "\n",
    "    def phase1sync(self, rx_signal):\n",
    "        sps = self._get_samples_per_symbol()\n",
    "        \n",
    "        for i in range(len(rx_signal)):\n",
    "            # Extract the segment to analyze\n",
    "            segment = rx_signal[i:i + sps]\n",
    "            if len(segment) < sps:\n",
    "                break\n",
    "            # Check if the segment is an upchirp´\n",
    "            if self._detect_chirp(segment, 'upchirp'):\n",
    "                print('Upchirp detected at index: ', i)\n",
    "                preamble_found, payload_index, reconstructed_preamble = self.phase2sync(rx_signal, i)\n",
    "                if preamble_found:\n",
    "                    print('Synchronization successful!')\n",
    "                    package_length = self._demodulator.demodulate_symbol(rx_signal[payload_index:payload_index + sps], 'downchirp')\n",
    "                    print('Package length: ', package_length)\n",
    "                    if self._samples_per_chip>1:\n",
    "                        print(\"(not) Refining synchronization... (SPC > 1 requires phase 3 synchronization, NOT IMPLEMENTED)\")\n",
    "                    return True, payload_index, package_length\n",
    "        return False, -1, -1\n",
    "    \n",
    "    def phase2sync(self, rx_signal, candidate_index):\n",
    "        sps = self._get_samples_per_symbol()\n",
    "        \n",
    "        current_index = candidate_index + sps\n",
    "        \n",
    "        reconstructed_preamble = []\n",
    "        while True:\n",
    "            segment = rx_signal[current_index:current_index + sps]\n",
    "            if len(segment) < sps:\n",
    "                break\n",
    "            if self._detect_chirp(segment, 'upchirp'):\n",
    "                reconstructed_preamble.append(LoraReservedArtifacts.FULL_UPCHIRP)\n",
    "                current_index += sps\n",
    "                continue\n",
    "            elif self._detect_chirp(segment, 'downchirp'):\n",
    "                reconstructed_preamble.append(LoraReservedArtifacts.FULL_DOWNCHIRP)\n",
    "                current_index += sps\n",
    "                alleged_second_downchip = rx_signal[current_index:current_index + sps]\n",
    "                if self._detect_chirp(alleged_second_downchip, 'downchirp'):\n",
    "                    reconstructed_preamble.append(LoraReservedArtifacts.FULL_DOWNCHIRP)\n",
    "                    payload_index = int(current_index + sps * 1.25)\n",
    "                    print('Payload index: ', payload_index)\n",
    "                    upchirps = reconstructed_preamble.count(LoraReservedArtifacts.FULL_UPCHIRP)\n",
    "                    downchirps = reconstructed_preamble.count(LoraReservedArtifacts.FULL_DOWNCHIRP)\n",
    "                    print(f'Reconstructed preamble: [{upchirps + 1} upchirps, {downchirps} downchirps]')\n",
    "                    return True, payload_index, reconstructed_preamble\n",
    "                else:\n",
    "                    break\n",
    "            else:\n",
    "                break\n",
    "        return False, -1, -1"
   ]
  },
  {
   "cell_type": "code",
   "execution_count": 5,
   "metadata": {},
   "outputs": [],
   "source": [
    "#------------------------------- SDR Parameter Configuration -------------------------------\n",
    "\n",
    "Uri              = \"ip:192.168.1.35\" # RELLENAR CON LA IP DEL SDR ASIGNADO\n",
    "SamplingRate     = 2e6           # Sample rate RX and TX paths[Samples/Sec]\n",
    "Loopback         = 0             # 0=Disabled, 1=Digital, 2=RF\n",
    "\n",
    "TxLOFreq         = 942e6         # Carrier frequency of TX path [Hz] RELLENAR CON LA FREC. DE PORTADORA ASIGNADA\n",
    "TxAtten          = -10           # Attenuation applied to TX path, valid range is -90 to 0 dB [dB]\n",
    "TxRfBw           = 4e6           # Bandwidth of front-end analog filter of TX path [Hz]\n",
    "\n",
    "RxLOFreq         = TxLOFreq      # Carrier frequency of RX path [Hz]\n",
    "GainControlModes = \"slow_attack\" # Receive path AGC Options: slow_attack, fast_attack, manual\n",
    "RxHardwareGain   = 0             # Gain applied to RX path. Only applicable when gain_control_mode is set to 'manual'    \n",
    "RxRfBw           = TxRfBw        # Bandwidth of front-end analog filter of RX path [Hz] \n",
    "RxBufferSize     = 2**20-1"
   ]
  },
  {
   "cell_type": "code",
   "execution_count": null,
   "metadata": {},
   "outputs": [],
   "source": [
    "#------------------------------- SDR Setup ------------------------------- \n",
    "\n",
    "sdr             = adi.Pluto(Uri)\n",
    "sdr.sample_rate = SamplingRate\n",
    "sdr.loopback    = Loopback\n",
    "#Tx:\n",
    "sdr.tx_lo                 = int(TxLOFreq)\n",
    "sdr.tx_hardwaregain_chan0 = TxAtten \n",
    "sdr.tx_rf_bandwidth       = int(TxRfBw)\n",
    "sdr.tx_cyclic_buffer      = True\n",
    "# Rx:\n",
    "sdr.rx_lo                   = int(RxLOFreq)\n",
    "sdr.gain_control_mode_chan0 = GainControlModes\n",
    "sdr.rx_rf_bandwidth         = int(RxRfBw)\n",
    "sdr.rx_cyclic_buffer        = False\n",
    "sdr.rx_buffer_size          = RxBufferSize"
   ]
  },
  {
   "cell_type": "code",
   "execution_count": 8,
   "metadata": {},
   "outputs": [
    {
     "name": "stdout",
     "output_type": "stream",
     "text": [
      "Upchirp detected at index:  28\n",
      "Payload index:  1468\n",
      "Reconstructed preamble: [9 upchirps, 2 downchirps]\n",
      "Synchronization successful!\n",
      "Package length:  5\n",
      "Payload detected!\n",
      "Received symbols:  [5, 10, 20, 30, 40, 50]\n"
     ]
    }
   ],
   "source": [
    "# ----- Playground -----\n",
    "spreading_factor = 7\n",
    "bandwidth = 125e3\n",
    "samples_per_chip = 1\n",
    "preamble_number = 8\n",
    "\n",
    "modulator = LoraModulator(spreading_factor, bandwidth, samples_per_chip)\n",
    "demodulator = LoraDemodulator(spreading_factor, bandwidth, samples_per_chip)\n",
    "synchronizer = LoraSync(spreading_factor, samples_per_chip, demodulator, preamble_number)\n",
    "payload = [10, 20, 30, 40, 50]\n",
    "timeline, frequency, signal = modulator.modulate_implicit_package(preamble_number, payload)\n",
    "\n",
    "sdr.tx(signal * 2**14)\n",
    "received_signal = sdr.rx() / 2**14\n",
    "# received_signal = np.roll(signal, -100)\n",
    "preamble_found, payload_index, package_length = synchronizer.phase1sync(received_signal)\n",
    "\n",
    "if preamble_found:\n",
    "    print('Payload detected!')\n",
    "    message_samples = (package_length + 1) * (2**spreading_factor * samples_per_chip) \n",
    "    received_symbols = demodulator.demodulate_symbols(received_signal[payload_index : payload_index + message_samples])\n",
    "    print('Received symbols: ', received_symbols)\n"
   ]
  },
  {
   "cell_type": "code",
   "execution_count": null,
   "metadata": {},
   "outputs": [],
   "source": [
    "# Since it is not possible to turn off Tx, it is configured to transmit at low power and on a different frequency than Rx.\n",
    "sdr.tx_destroy_buffer()\n",
    "sdr.tx_hardwaregain_chan0 = -89 \n",
    "sdr.tx_lo                 = int(2400e6)\n",
    "sdr.rx_lo                 = int(950e6)\n",
    "sdr.tx(np.zeros(2048))\n",
    "# Destroy radio object\n",
    "del(sdr)"
   ]
  }
 ],
 "metadata": {
  "kernelspec": {
   "display_name": "Python 3",
   "language": "python",
   "name": "python3"
  },
  "language_info": {
   "codemirror_mode": {
    "name": "ipython",
    "version": 3
   },
   "file_extension": ".py",
   "mimetype": "text/x-python",
   "name": "python",
   "nbconvert_exporter": "python",
   "pygments_lexer": "ipython3",
   "version": "3.12.0"
  }
 },
 "nbformat": 4,
 "nbformat_minor": 2
}
